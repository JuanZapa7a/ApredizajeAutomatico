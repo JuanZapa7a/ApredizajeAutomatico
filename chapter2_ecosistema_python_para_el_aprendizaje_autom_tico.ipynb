{
  "cells": [
    {
      "cell_type": "markdown",
      "metadata": {
        "id": "view-in-github",
        "colab_type": "text"
      },
      "source": [
        "<a href=\"https://colab.research.google.com/github/JuanZapa7a/ApredizajeAutomatico/blob/main/chapter2_ecosistema_python_para_el_aprendizaje_autom_tico.ipynb\" target=\"_parent\"><img src=\"https://colab.research.google.com/assets/colab-badge.svg\" alt=\"Open In Colab\"/></a>"
      ]
    },
    {
      "cell_type": "markdown",
      "metadata": {
        "id": "pK61GX8TKcnH"
      },
      "source": [
        "# Capítulo 2:\n",
        "\n",
        "# Ecosistema de Python para el Aprendizaje Automático\n",
        "\n",
        "El ecosistema de Python está creciendo y podría convertirse en la plataforma dominante para el aprendizaje automático. La razón principal para adoptar Python en el aprendizaje automático es porque es un lenguaje de programación de propósito general que se puede utilizar tanto para investigación y desarrollo como en entornos de producción. En este capítulo, descubrirás el ecosistema de Python para el aprendizaje automático. Después de completar esta lección, conocerás:\n",
        "\n",
        "1. Python y su creciente uso en el aprendizaje automático.\n",
        "2. SciPy y la funcionalidad que proporciona junto con NumPy, Matplotlib y Pandas.\n",
        "3. scikit-learn, que ofrece todos los algoritmos de aprendizaje automático.\n",
        "4. Cómo configurar tu ecosistema de Python para el aprendizaje automático y qué versiones utilizar."
      ]
    },
    {
      "cell_type": "markdown",
      "metadata": {
        "id": "Jy_n75IiKcnJ"
      },
      "source": [
        "## 2.1 Python\n",
        "\n",
        "Python es un lenguaje de programación interpretado de propósito general. Es fácil de aprender y utilizar, principalmente porque el lenguaje se centra en la legibilidad. La filosofía de Python se captura en el Zen de Python, que incluye frases como:\n",
        ">\n",
        "- Lo bello es mejor que lo feo.\n",
        "- Lo explícito es mejor que lo implícito.\n",
        "- Lo simple es mejor que lo complejo.\n",
        "- Lo complejo es mejor que lo complicado.\n",
        "- Lo plano es mejor que lo anidado.\n",
        "- Lo disperso es mejor que lo denso.\n",
        "- La legibilidad cuenta.\n",
        "\n",
        "Es un lenguaje popular en general, apareciendo de manera consistente en las primeras posiciones de las encuestas sobre lenguajes de programación en sitios como [StackOverflow](https://es.stackoverflow.com/questions/tagged/python). Es un lenguaje dinámico y muy adecuado para entornos interactivos tanto para el desarrollo y prototipado rápido como para respaldar la creación de aplicaciones grandes. También se utiliza ampliamente en aprendizaje automático y ciencia de datos debido al excelente soporte de bibliotecas y porque es un lenguaje de programación de propósito general (a diferencia de [R](https://www.r-project.org/) o [Matlab](https://es.mathworks.com/products/matlab.html)). Por ejemplo, puedes consultar los cursos de la plataforma [Kaggle](https://www.kaggle.com/code) y los resultados de la encuesta de herramientas de [KDD Nuggets en 2015](http://www.kdnuggets.com/polls/2015/analytics-data-mining-data-science-software-used.html).\n",
        "\n",
        "Este es un aspecto simple pero muy importante. Significa que puedes realizar tu investigación y desarrollo (determinando qué modelos utilizar) en el mismo lenguaje de programación que utilizas para tus sistemas de producción, simplificando enormemente la transición de desarrollo a producción."
      ]
    },
    {
      "cell_type": "markdown",
      "metadata": {
        "id": "CBYjuVKxKcnK"
      },
      "source": [
        "## 2.2 [SciPy](https://scipy.org/)\n",
        "\n",
        "SciPy es un ecosistema de bibliotecas de Python para matemáticas, ciencia e ingeniería. Es un complemento de Python que necesitarás para el aprendizaje automático. El ecosistema SciPy está compuesto por los siguientes módulos principales relevantes para el aprendizaje automático:\n",
        "\n",
        "- **[NumPy](https://numpy.org/):** Fundación de SciPy que te permite trabajar eficientemente con datos en matrices.\n",
        "- **[Matplotlib](https://matplotlib.org/):** Permite crear gráficos y representaciones bidimensionales a partir de datos.\n",
        "- **[Pandas](https://pandas.pydata.org/):** Herramientas y estructuras de datos para organizar y analizar tus datos.\n",
        "\n",
        "Para ser efectivo en el aprendizaje automático en Python, debes instalar y familiarizarte con SciPy. Específicamente:\n",
        "\n",
        "- Prepararás tus datos como arrays de NumPy para modelar algoritmos de aprendizaje automático.\n",
        "- Utilizarás Matplotlib (y envoltorios de Matplotlib en otros frameworks) para crear gráficos de tus datos.\n",
        "- Emplearás Pandas para cargar, explorar y comprender mejor tus datos.\n",
        "\n",
        "## 2.3 [scikit-learn](https://scikit-learn.org/stable/index.html)\n",
        "\n",
        "La biblioteca scikit-learn es cómo puedes desarrollar y practicar el aprendizaje automático en Python. Está construida sobre el ecosistema de SciPy y requiere su presencia. El nombre \"scikit\" sugiere que es un complemento o conjunto de herramientas de SciPy. El enfoque de la biblioteca son los algoritmos de aprendizaje automático para clasificación, regresión, agrupación y más. También proporciona herramientas para tareas relacionadas, como evaluar modelos, ajustar parámetros y preprocesar datos.\n",
        "\n",
        "Al igual que Python y SciPy, scikit-learn es de código abierto y se puede utilizar comercialmente bajo la licencia BSD. Esto significa que puedes aprender sobre aprendizaje automático, desarrollar modelos y ponerlos en funcionamiento, todo con el mismo ecosistema y código. Una poderosa razón para utilizar scikit-learn."
      ]
    },
    {
      "cell_type": "markdown",
      "source": [
        "## 2.4 Analizar datos con Python usando Google Colab\n",
        "\n",
        "Si no cuentas con una cuenta en Google (si tienes una cuenta en gmail, ya dispones de un) es necesario que crees una. Puedes hacerlo de manera sencilla [siguiendo estos pasos](https://support.google.com/accounts/answer/27441?hl=es-419). Esta cuenta te dará acceso a todos los servicios que ofrece Google de forma gratuita y, en particular, a los que nosotros nos interesan en este curso: El servicio de alojamiento de archivos en la nube Google Drive y por supuesto a Colab ;).\n",
        "## 2.4.1. Conociendo la plataforma y haciendo la puesta a punto\n",
        "\n",
        "Ingresando a la web de Google Colab nos encontraremos automáticamente con nuestro primer Notebook.\n",
        "\n",
        "Si estamos acostumbrados a usar otros servicios de Google como por ejemplo el procesador de texto Documentos de Google (Google Docs), la interfaz nos resultará algo familiar: Tenemos los menués (algunos clásicos como archivo o editar y otros nuevos como Entorno de ejecución) justo debajo del título y a la derecha el botón compartir tal cual como si fuera un documento de texto que estuvieramos compartiendo en la plataforma Google Drive. Las diferencias comienzan en que el cuerpo de nuestro documento ya no es un procesador de texto estándar sino que es un notebook interactivo en cual tenemos celdas. Estas divisiones pueden ser de dos tipos y las podemos crear con el correspondiente botón que se encuentra justo debajo del menú:\n",
        "\n",
        "- **Texto**: Como su nombre lo indica, nos permitirá escribir texto plano y también utilizar el lenguaje [Markdown](https://markdown.es/) para darle formato. Por ejemplo podemos cambiarle el tamaño (anteponiendo #) o utilizar negrita (encerrado las palabras con **).\n",
        "\n",
        "- **Código**: Esto es lo mas interesante. Dentro de estas celdas podremos escribir todas las líneas que deseemos utilizando el lenguaje Python y, habiéndolas importado previamente, utilizando cualquier librería disponible. Para ejecutar cada celda podremos ir al botón con el símbolo ▶️ que aparece en la esquina superior izquierda o con el atajo `Ctrl (o cmd) + Enter`.\n",
        "\n",
        "En la esquina superior derecha se reconoce un botón que dice `Conectar` (o Reconectar). Si pulsan, aparece un menú con diferentes opciones de `Conectar`.\n",
        "\n",
        "Presionando `Conectar a un entorno de ejecución alojado` podrán ejecutar el notebook usando los recursos de Google Cloud (es decir, de una computadora de Google), lo cual es mucho más rápido que usar la nuestra. Si quisieran usar sus propios recursos, deberán seleccionar `Conectar a un entorno de ejecución local`(no se recomienda). De cualquier modo, lo que interesa remarcar es que si en algún momento el notebook no está funcionando correctamente puede ser que se deba a que se está desconectado y se deberá pulsar esa opcion (esto puede pasar si no se hace nada por cierto tiempo). Normalmente no debemos preocuparnos por esto porque al correr nuestra primera celda de código se conectará automáticamente. Para una explicación más detallada sobre como usar diferentes entornos de ejecución entren en [aquí](https://www.adictosaltrabajo.com/2019/06/04/google-colab-python-y-machine-learning-en-la-nube/#4-2-entorno-con-gpu).\n",
        "\n",
        "Finalmente, en el mismo menú verán un ícono de engranaje que les permitirá configurar varias cosas como el tema (claro u oscuro), tamaño de fuente, entre otras. Si quieren divertirse un rato pueden ir a “varios” y marcar modo gatito para ver lo que pasa (spoiler: no afecta en nada al análisis de datos).\n",
        "\n",
        "### 2.4.2 Importando las bibliotecas Python (packages)\n",
        "\n",
        "Laimportación de las bibliotecas (packages) en Python se realiza con la palabra reservada `import` seguida del nombre del package que queremos usar.\n",
        "\n",
        "Para realizar análisis de datos utlizaremos cuatro bibliotecas ya comentadas y muy populares en Python:\n",
        "1. NumPy, la cual nos otorgará super poderes matemáticos,\n",
        "2. Pandas para trabajar con Data Frames (un tipo de tabla, similar a una hoja de cálculo de Excel),\n",
        "3. Matplotlib para generar visualizaciones y\n",
        "4. SciPy para análisis estadísticos y otros análisis numéricos.\n"
      ],
      "metadata": {
        "id": "DxyGSZDYNuIB"
      }
    },
    {
      "cell_type": "markdown",
      "source": [
        "Vemamos antes de nada que version de python tenemos enb Google Colab"
      ],
      "metadata": {
        "id": "LGBwzi5oTP73"
      }
    },
    {
      "cell_type": "code",
      "source": [
        "!python --version"
      ],
      "metadata": {
        "id": "2Smm_UC0UJsP",
        "outputId": "77532734-da37-42ce-b8f3-38d7b1f8a435",
        "colab": {
          "base_uri": "https://localhost:8080/"
        }
      },
      "execution_count": 6,
      "outputs": [
        {
          "output_type": "stream",
          "name": "stdout",
          "text": [
            "Python 3.10.12\n"
          ]
        }
      ]
    },
    {
      "cell_type": "markdown",
      "source": [
        "En Google Colab, la ejecución de comandos de sistema directamente en una celda de código mediante el símbolo de exclamación ! es una forma de ejecutar comandos de sistema operativo, pero algunos comandos específicos pueden no funcionar de esta manera.\n",
        "\n",
        "\n",
        "Ahora importemos las bibliotecas sugeridas y comprobemos sus versiones."
      ],
      "metadata": {
        "id": "_zEI54QvUVIj"
      }
    },
    {
      "cell_type": "code",
      "source": [
        "import scipy\n",
        "print(f\"SciPy version: {scipy.__version__}\")\n"
      ],
      "metadata": {
        "id": "6HgTNjCPUsS5",
        "outputId": "8618e380-e9be-4ea0-f3dd-8a2d4c7525f4",
        "colab": {
          "base_uri": "https://localhost:8080/"
        }
      },
      "execution_count": 7,
      "outputs": [
        {
          "output_type": "stream",
          "name": "stdout",
          "text": [
            "SciPy version: 1.11.3\n"
          ]
        }
      ]
    },
    {
      "cell_type": "code",
      "source": [
        "import numpy\n",
        "print(f\"NumPy version: {numpy.__version__}\")\n"
      ],
      "metadata": {
        "id": "b4OspGccUtag",
        "outputId": "82d8ca0b-fcbe-4b4e-b1d5-b10ca44c3149",
        "colab": {
          "base_uri": "https://localhost:8080/"
        }
      },
      "execution_count": 8,
      "outputs": [
        {
          "output_type": "stream",
          "name": "stdout",
          "text": [
            "NumPy version: 1.23.5\n"
          ]
        }
      ]
    },
    {
      "cell_type": "code",
      "source": [
        "import matplotlib\n",
        "print(f\"Matplotlib version: {matplotlib.__version__}\")\n"
      ],
      "metadata": {
        "id": "zHM4hAanUu0J",
        "outputId": "2a7319e0-0c7e-4653-8789-b584f8e03bc4",
        "colab": {
          "base_uri": "https://localhost:8080/"
        }
      },
      "execution_count": 9,
      "outputs": [
        {
          "output_type": "stream",
          "name": "stdout",
          "text": [
            "Matplotlib version: 3.7.1\n"
          ]
        }
      ]
    },
    {
      "cell_type": "code",
      "source": [
        "import pandas\n",
        "print(f\"Pandas version: {pandas.__version__}\")\n"
      ],
      "metadata": {
        "id": "tDRH2TW5Uwb5",
        "outputId": "8baf322e-98a9-4c83-a746-cbd18d03b274",
        "colab": {
          "base_uri": "https://localhost:8080/"
        }
      },
      "execution_count": 10,
      "outputs": [
        {
          "output_type": "stream",
          "name": "stdout",
          "text": [
            "Pandas version: 1.5.3\n"
          ]
        }
      ]
    },
    {
      "cell_type": "markdown",
      "source": [
        "Nos faltaria en último termino la biblioteca para Aprendizaje Autómatico o machine Learning scikit-learn"
      ],
      "metadata": {
        "id": "pdti6TZ5U8wq"
      }
    },
    {
      "cell_type": "code",
      "source": [
        "import sklearn\n",
        "print(f\"Sklearn version: {sklearn.__version__}\")"
      ],
      "metadata": {
        "id": "mbMs29CAVMII",
        "outputId": "0ba4b4fc-2807-4f3a-da8e-fa3203ee6ec7",
        "colab": {
          "base_uri": "https://localhost:8080/"
        }
      },
      "execution_count": 13,
      "outputs": [
        {
          "output_type": "stream",
          "name": "stdout",
          "text": [
            "Sklearn version: 1.2.2\n"
          ]
        }
      ]
    },
    {
      "cell_type": "markdown",
      "source": [
        "**NOTA**: Si eres valiente y no deseas usar un navegador web para programar existe una distribución llamada [Anaconda](https://www.anaconda.com/) que puedes descargar e instalar de forma gratuita. Soporta las tres plataformas principales: Microsoft Windows, Mac OS X y Linux. Incluye Python, SciPy y scikit-learn. Todo lo que necesitas para aprender, practicar y utilizar el aprendizaje automático con el entorno de Python."
      ],
      "metadata": {
        "id": "dYWuhQ8IVrgw"
      }
    },
    {
      "cell_type": "markdown",
      "source": [
        "## 2.5 Resumen\n",
        "\n",
        "En este capítulo, descubriste el ecosistema de Python para el aprendizaje automático. Aprendiste acerca de:\n",
        "\n",
        "- Python y su creciente uso en el aprendizaje automático.\n",
        "- SciPy y la funcionalidad que proporciona con NumPy, Matplotlib y Pandas.\n",
        "- scikit-learn, que ofrece todos los algoritmos de aprendizaje automático.\n",
        "\n",
        "También aprendiste cómo utilizar el ecosistema de Python para el aprendizaje automático en Google Colab.\n",
        "\n",
        "### 2.5.1 Próximo\n",
        "\n",
        "En la próxima lección, recibirás un curso intensivo en el ecosistema de Python y SciPy, diseñado específicamente para que un desarrollador como tú se familiarice rápidamente con el ecosistema.\n"
      ],
      "metadata": {
        "id": "4_uIG14sWGya"
      }
    }
  ],
  "metadata": {
    "kernelspec": {
      "display_name": "Python 3",
      "language": "python",
      "name": "python3"
    },
    "language_info": {
      "name": "python",
      "version": "3.10.12"
    },
    "colab": {
      "provenance": [],
      "include_colab_link": true
    }
  },
  "nbformat": 4,
  "nbformat_minor": 0
}
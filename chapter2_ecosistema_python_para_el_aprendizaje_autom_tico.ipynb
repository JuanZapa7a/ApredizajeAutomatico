{
  "cells": [
    {
      "cell_type": "markdown",
      "metadata": {
        "id": "view-in-github",
        "colab_type": "text"
      },
      "source": [
        "<a href=\"https://colab.research.google.com/github/JuanZapa7a/ApredizajeAutomatico/blob/main/chapter2_ecosistema_python_para_el_aprendizaje_autom_tico.ipynb\" target=\"_parent\"><img src=\"https://colab.research.google.com/assets/colab-badge.svg\" alt=\"Open In Colab\"/></a>"
      ]
    },
    {
      "cell_type": "markdown",
      "metadata": {
        "id": "pK61GX8TKcnH"
      },
      "source": [
        "# Capítulo 2:\n",
        "\n",
        "# Ecosistema de Python para el Aprendizaje Automático\n",
        "\n",
        "El ecosistema de Python está creciendo y podría convertirse en la plataforma dominante para el aprendizaje automático. La razón principal para adoptar Python en el aprendizaje automático es porque es un lenguaje de programación de propósito general que se puede utilizar tanto para investigación y desarrollo como en entornos de producción. En este capítulo, descubrirás el ecosistema de Python para el aprendizaje automático. Después de completar esta lección, conocerás:\n",
        "\n",
        "1. Python y su creciente uso en el aprendizaje automático.\n",
        "2. SciPy y la funcionalidad que proporciona junto con NumPy, Matplotlib y Pandas.\n",
        "3. scikit-learn, que ofrece todos los algoritmos de aprendizaje automático.\n",
        "4. Cómo configurar tu ecosistema de Python para el aprendizaje automático y qué versiones utilizar."
      ]
    },
    {
      "cell_type": "markdown",
      "metadata": {
        "id": "Jy_n75IiKcnJ"
      },
      "source": [
        "## 2.1 Python\n",
        "\n",
        "Python es un lenguaje de programación interpretado de propósito general. Es fácil de aprender y utilizar, principalmente porque el lenguaje se centra en la legibilidad. La filosofía de Python se captura en el Zen de Python, que incluye frases como:\n",
        ">\n",
        "- Lo bello es mejor que lo feo.\n",
        "- Lo explícito es mejor que lo implícito.\n",
        "- Lo simple es mejor que lo complejo.\n",
        "- Lo complejo es mejor que lo complicado.\n",
        "- Lo plano es mejor que lo anidado.\n",
        "- Lo disperso es mejor que lo denso.\n",
        "- La legibilidad cuenta.\n",
        "\n",
        "Es un lenguaje popular en general, apareciendo de manera consistente en las primeras posiciones de las encuestas sobre lenguajes de programación en sitios como [StackOverflow](https://es.stackoverflow.com/questions/tagged/python). Es un lenguaje dinámico y muy adecuado para entornos interactivos tanto para el desarrollo y prototipado rápido como para respaldar la creación de aplicaciones grandes. También se utiliza ampliamente en aprendizaje automático y ciencia de datos debido al excelente soporte de bibliotecas y porque es un lenguaje de programación de propósito general (a diferencia de [R](https://www.r-project.org/) o [Matlab](https://es.mathworks.com/products/matlab.html)). Por ejemplo, puedes consultar los cursos de la plataforma [Kaggle](https://www.kaggle.com/code) y los resultados de la encuesta de herramientas de [KDD Nuggets en 2015](http://www.kdnuggets.com/polls/2015/analytics-data-mining-data-science-software-used.html).\n",
        "\n",
        "Este es un aspecto simple pero muy importante. Significa que puedes realizar tu investigación y desarrollo (determinando qué modelos utilizar) en el mismo lenguaje de programación que utilizas para tus sistemas de producción, simplificando enormemente la transición de desarrollo a producción."
      ]
    },
    {
      "cell_type": "markdown",
      "metadata": {
        "id": "CBYjuVKxKcnK"
      },
      "source": [
        "## 2.2 [SciPy](https://scipy.org/)\n",
        "\n",
        "SciPy es un ecosistema de bibliotecas de Python para matemáticas, ciencia e ingeniería. Es un complemento de Python que necesitarás para el aprendizaje automático. El ecosistema SciPy está compuesto por los siguientes módulos principales relevantes para el aprendizaje automático:\n",
        "\n",
        "- **[NumPy](https://numpy.org/):** Fundación de SciPy que te permite trabajar eficientemente con datos en matrices.\n",
        "- **[Matplotlib](https://matplotlib.org/):** Permite crear gráficos y representaciones bidimensionales a partir de datos.\n",
        "- **[Pandas](https://pandas.pydata.org/):** Herramientas y estructuras de datos para organizar y analizar tus datos.\n",
        "\n",
        "Para ser efectivo en el aprendizaje automático en Python, debes instalar y familiarizarte con SciPy. Específicamente:\n",
        "\n",
        "- Prepararás tus datos como arrays de NumPy para modelar algoritmos de aprendizaje automático.\n",
        "- Utilizarás Matplotlib (y envoltorios de Matplotlib en otros frameworks) para crear gráficos de tus datos.\n",
        "- Emplearás Pandas para cargar, explorar y comprender mejor tus datos.\n",
        "\n",
        "## 2.3 [scikit-learn](https://scikit-learn.org/stable/index.html)\n",
        "\n",
        "La biblioteca scikit-learn es cómo puedes desarrollar y practicar el aprendizaje automático en Python. Está construida sobre el ecosistema de SciPy y requiere su presencia. El nombre \"scikit\" sugiere que es un complemento o conjunto de herramientas de SciPy. El enfoque de la biblioteca son los algoritmos de aprendizaje automático para clasificación, regresión, agrupación y más. También proporciona herramientas para tareas relacionadas, como evaluar modelos, ajustar parámetros y preprocesar datos.\n",
        "\n",
        "Al igual que Python y SciPy, scikit-learn es de código abierto y se puede utilizar comercialmente bajo la licencia BSD. Esto significa que puedes aprender sobre aprendizaje automático, desarrollar modelos y ponerlos en funcionamiento, todo con el mismo ecosistema y código. Una poderosa razón para utilizar scikit-learn."
      ]
    },
    {
      "cell_type": "code",
      "execution_count": null,
      "metadata": {
        "id": "cJMcQpXyKcnK"
      },
      "outputs": [],
      "source": [
        "## 2.4 Instalación del Ecosistema de Python\n",
        "\n",
        "Existen varias formas de instalar el ecosistema de Python para el aprendizaje automático. En esta sección, explicaremos cómo instalar el ecosistema de Python para el aprendizaje automático.\n",
        "\n",
        "### 2.4.1 Cómo Instalar Python\n",
        "\n",
        "El primer paso es instalar Python. Prefiero utilizar y recomendar Python 2.7. Las instrucciones para instalar Python serán específicas para tu plataforma. Para obtener instrucciones, consulta la sección \"Downloading Python\" en la Guía para Principiantes de Python. Una vez instalado, puedes confirmar que la instalación fue exitosa. Abre una línea de comandos y escribe:\n",
        "\n",
        "```bash\n",
        "# Inserta aquí los comandos específicos para tu plataforma\n",
        "```\n",
        "\n",
        "Recuerda ajustar los comandos según las instrucciones específicas de tu sistema operativo.\n",
        "\n"
      ]
    }
  ],
  "metadata": {
    "kernelspec": {
      "display_name": "Python 3",
      "language": "python",
      "name": "python3"
    },
    "language_info": {
      "name": "python",
      "version": "3.10.12"
    },
    "colab": {
      "provenance": [],
      "include_colab_link": true
    }
  },
  "nbformat": 4,
  "nbformat_minor": 0
}
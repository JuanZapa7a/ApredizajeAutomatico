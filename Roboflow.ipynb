{
  "nbformat": 4,
  "nbformat_minor": 0,
  "metadata": {
    "colab": {
      "provenance": [],
      "authorship_tag": "ABX9TyPWI4dwvbIIl1eyLQCQVjgp",
      "include_colab_link": true
    },
    "kernelspec": {
      "name": "python3",
      "display_name": "Python 3"
    },
    "language_info": {
      "name": "python"
    }
  },
  "cells": [
    {
      "cell_type": "markdown",
      "metadata": {
        "id": "view-in-github",
        "colab_type": "text"
      },
      "source": [
        "<a href=\"https://colab.research.google.com/github/JuanZapa7a/ApredizajeAutomatico/blob/main/Roboflow.ipynb\" target=\"_parent\"><img src=\"https://colab.research.google.com/assets/colab-badge.svg\" alt=\"Open In Colab\"/></a>"
      ]
    },
    {
      "cell_type": "markdown",
      "source": [
        "# Google Colab Notebook para Roboflow\n",
        "\n",
        "# 1. Introducción a Roboflow\n",
        "\"\"\"\n",
        "Explicación de qué es Roboflow y para qué se utiliza.\n",
        "\"\"\"\n",
        "\n",
        "# 2. Creación de una cuenta en Roboflow\n",
        "\"\"\"\n",
        "Instrucciones paso a paso sobre cómo crear una cuenta en Roboflow.\n",
        "\"\"\"\n",
        "\n",
        "# 3. Inicio de sesión en Roboflow\n",
        "\"\"\"\n",
        "Código para iniciar sesión en Roboflow utilizando la API.\n",
        "\"\"\"\n",
        "\n",
        "# 4. Uso de una base de datos del universo Roboflow\n",
        "\"\"\"\n",
        "Explicación de cómo buscar y seleccionar una base de datos del universo Roboflow.\n",
        "Código para cargar la base de datos seleccionada.\n",
        "\"\"\"\n",
        "\n",
        "# 5. Anotación de la base de datos para la clasificación\n",
        "\"\"\"\n",
        "Explicación de cómo se anotan los datos en Roboflow.\n",
        "Código para anotar la base de datos cargada.\n",
        "\"\"\"\n",
        "\n",
        "# 6. Conclusión\n",
        "\"\"\"\n",
        "Resumen de lo que se ha cubierto en el notebook y los próximos pasos.\n",
        "\"\"\"\n"
      ],
      "metadata": {
        "id": "twWiA_Em13mj"
      }
    },
    {
      "cell_type": "markdown",
      "source": [
        "# 1. Introduction to [Roboflow](https://docs.roboflow.com/api-reference/introduction)\n",
        "\n",
        "Roboflow is a platform that simplifies the process of building machine learning models. It provides tools for data management, annotation, preprocessing, model augmentation and deployment. Roboflow is popular among developers, with over 100,000 developers having built with Roboflow tools[^1^][1][^2^][2]. Despite its popularity, there are alternatives to Roboflow, such as INTSIG, SuperAnnotate, Google Cloud Vision API and Encord[^3^][4].\n",
        "\n",
        "## Limitations of the free version of Roboflow:\n",
        "\n",
        "The free version of Roboflow allows up to 3 users. Up to 10,000 source images can be managed. 3 training credits are provided. 1,000 inference credits are awarded per month. Projects, including datasets, are open source to contribute to the community.\n",
        "\n",
        "## Roboflow integration with Google Colab:\n",
        "\n",
        "Roboflow integrates well with Google Colab. In fact, Roboflow has produced dozens of workbooks showing how to train computer vision models in Google Colab345 . These workbooks are step-by-step guides on how to train models and perform other computer vision tasks.\n",
        "\n"
      ],
      "metadata": {
        "id": "03T45nGa2flV"
      }
    },
    {
      "cell_type": "code",
      "source": [
        "# Paso 1: Instalación de Roboflow CLI\n",
        "!pip install roboflow\n",
        "\n",
        "# Paso 2: Importar las bibliotecas necesarias\n",
        "import os\n",
        "import roboflow\n",
        "\n",
        "# Paso 3: Iniciar sesión en Roboflow\n",
        "rf = roboflow.Roboflow(api_key=\"5xvhWbT7GJjHZvn6ukFk\")\n",
        "\n",
        "# Paso 4: Listar los proyectos disponibles en Roboflow\n",
        "workspaces = rf.workspaces.list()\n",
        "print(\"Proyectos disponibles en Roboflow:\")\n",
        "for workspace in workspaces:\n",
        "    print(workspace['name'])\n",
        "\n",
        "# Paso 5: Seleccionar una base de datos y descargarla\n",
        "database_name = \"nombre_de_la_base_de_datos\"  # Ingresa el nombre de la base de datos que deseas utilizar\n",
        "database_dir = \"./data\"  # Directorio donde se almacenará la base de datos descargada\n",
        "os.makedirs(database_dir, exist_ok=True)\n",
        "rf.download_dataset(database_name, database_dir)\n",
        "\n",
        "# Paso 6: Anotar la base de datos descargada (opcional, dependiendo de si la base de datos ya está anotada o no)\n",
        "# Aquí puedes explicar cómo anotar la base de datos utilizando la interfaz de Roboflow\n",
        "\n",
        "# Paso 7: Ejemplo de carga de imágenes y visualización de etiquetas (opcional)\n",
        "# Aquí puedes mostrar cómo cargar imágenes desde la base de datos y visualizar las etiquetas asociadas\n",
        "\n",
        "# Paso 8: Guardar la base de datos anotada (si es necesario)\n",
        "# Aquí puedes explicar cómo guardar la base de datos anotada utilizando la interfaz de Roboflow\n",
        "\n",
        "# Paso 9: Conclusión y recursos adicionales\n",
        "\n"
      ],
      "metadata": {
        "colab": {
          "base_uri": "https://localhost:8080/",
          "height": 627
        },
        "id": "5bMj9y3sAmKY",
        "outputId": "fc44a50f-1e15-4134-d256-8080e6ac97c4"
      },
      "execution_count": 3,
      "outputs": [
        {
          "output_type": "stream",
          "name": "stdout",
          "text": [
            "Requirement already satisfied: roboflow in /usr/local/lib/python3.10/dist-packages (1.1.26)\n",
            "Requirement already satisfied: certifi==2023.7.22 in /usr/local/lib/python3.10/dist-packages (from roboflow) (2023.7.22)\n",
            "Requirement already satisfied: chardet==4.0.0 in /usr/local/lib/python3.10/dist-packages (from roboflow) (4.0.0)\n",
            "Requirement already satisfied: cycler==0.10.0 in /usr/local/lib/python3.10/dist-packages (from roboflow) (0.10.0)\n",
            "Requirement already satisfied: idna==2.10 in /usr/local/lib/python3.10/dist-packages (from roboflow) (2.10)\n",
            "Requirement already satisfied: kiwisolver>=1.3.1 in /usr/local/lib/python3.10/dist-packages (from roboflow) (1.4.5)\n",
            "Requirement already satisfied: matplotlib in /usr/local/lib/python3.10/dist-packages (from roboflow) (3.7.1)\n",
            "Requirement already satisfied: numpy>=1.18.5 in /usr/local/lib/python3.10/dist-packages (from roboflow) (1.25.2)\n",
            "Requirement already satisfied: opencv-python-headless==4.8.0.74 in /usr/local/lib/python3.10/dist-packages (from roboflow) (4.8.0.74)\n",
            "Requirement already satisfied: Pillow>=7.1.2 in /usr/local/lib/python3.10/dist-packages (from roboflow) (9.4.0)\n",
            "Requirement already satisfied: python-dateutil in /usr/local/lib/python3.10/dist-packages (from roboflow) (2.8.2)\n",
            "Requirement already satisfied: python-dotenv in /usr/local/lib/python3.10/dist-packages (from roboflow) (1.0.1)\n",
            "Requirement already satisfied: requests in /usr/local/lib/python3.10/dist-packages (from roboflow) (2.31.0)\n",
            "Requirement already satisfied: six in /usr/local/lib/python3.10/dist-packages (from roboflow) (1.16.0)\n",
            "Requirement already satisfied: urllib3>=1.26.6 in /usr/local/lib/python3.10/dist-packages (from roboflow) (2.0.7)\n",
            "Requirement already satisfied: tqdm>=4.41.0 in /usr/local/lib/python3.10/dist-packages (from roboflow) (4.66.2)\n",
            "Requirement already satisfied: PyYAML>=5.3.1 in /usr/local/lib/python3.10/dist-packages (from roboflow) (6.0.1)\n",
            "Requirement already satisfied: requests-toolbelt in /usr/local/lib/python3.10/dist-packages (from roboflow) (1.0.0)\n",
            "Requirement already satisfied: python-magic in /usr/local/lib/python3.10/dist-packages (from roboflow) (0.4.27)\n",
            "Requirement already satisfied: contourpy>=1.0.1 in /usr/local/lib/python3.10/dist-packages (from matplotlib->roboflow) (1.2.1)\n",
            "Requirement already satisfied: fonttools>=4.22.0 in /usr/local/lib/python3.10/dist-packages (from matplotlib->roboflow) (4.50.0)\n",
            "Requirement already satisfied: packaging>=20.0 in /usr/local/lib/python3.10/dist-packages (from matplotlib->roboflow) (24.0)\n",
            "Requirement already satisfied: pyparsing>=2.3.1 in /usr/local/lib/python3.10/dist-packages (from matplotlib->roboflow) (3.1.2)\n",
            "Requirement already satisfied: charset-normalizer<4,>=2 in /usr/local/lib/python3.10/dist-packages (from requests->roboflow) (3.3.2)\n"
          ]
        },
        {
          "output_type": "error",
          "ename": "AttributeError",
          "evalue": "'Roboflow' object has no attribute 'workspaces'",
          "traceback": [
            "\u001b[0;31m---------------------------------------------------------------------------\u001b[0m",
            "\u001b[0;31mAttributeError\u001b[0m                            Traceback (most recent call last)",
            "\u001b[0;32m<ipython-input-3-f4905538500c>\u001b[0m in \u001b[0;36m<cell line: 12>\u001b[0;34m()\u001b[0m\n\u001b[1;32m     10\u001b[0m \u001b[0;34m\u001b[0m\u001b[0m\n\u001b[1;32m     11\u001b[0m \u001b[0;31m# Paso 4: Listar los proyectos disponibles en Roboflow\u001b[0m\u001b[0;34m\u001b[0m\u001b[0;34m\u001b[0m\u001b[0m\n\u001b[0;32m---> 12\u001b[0;31m \u001b[0mworkspaces\u001b[0m \u001b[0;34m=\u001b[0m \u001b[0mrf\u001b[0m\u001b[0;34m.\u001b[0m\u001b[0mworkspaces\u001b[0m\u001b[0;34m.\u001b[0m\u001b[0mlist\u001b[0m\u001b[0;34m(\u001b[0m\u001b[0;34m)\u001b[0m\u001b[0;34m\u001b[0m\u001b[0;34m\u001b[0m\u001b[0m\n\u001b[0m\u001b[1;32m     13\u001b[0m \u001b[0mprint\u001b[0m\u001b[0;34m(\u001b[0m\u001b[0;34m\"Proyectos disponibles en Roboflow:\"\u001b[0m\u001b[0;34m)\u001b[0m\u001b[0;34m\u001b[0m\u001b[0;34m\u001b[0m\u001b[0m\n\u001b[1;32m     14\u001b[0m \u001b[0;32mfor\u001b[0m \u001b[0mworkspace\u001b[0m \u001b[0;32min\u001b[0m \u001b[0mworkspaces\u001b[0m\u001b[0;34m:\u001b[0m\u001b[0;34m\u001b[0m\u001b[0;34m\u001b[0m\u001b[0m\n",
            "\u001b[0;31mAttributeError\u001b[0m: 'Roboflow' object has no attribute 'workspaces'"
          ]
        }
      ]
    }
  ]
}
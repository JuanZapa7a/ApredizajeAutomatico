{
  "nbformat": 4,
  "nbformat_minor": 0,
  "metadata": {
    "colab": {
      "provenance": [],
      "authorship_tag": "ABX9TyO9N1g9rqJ6bVrSOtBAdYSt",
      "include_colab_link": true
    },
    "kernelspec": {
      "name": "python3",
      "display_name": "Python 3"
    },
    "language_info": {
      "name": "python"
    }
  },
  "cells": [
    {
      "cell_type": "markdown",
      "metadata": {
        "id": "view-in-github",
        "colab_type": "text"
      },
      "source": [
        "<a href=\"https://colab.research.google.com/github/JuanZapa7a/ApredizajeAutomatico/blob/main/Capitulo3_Curso_Intensivo_de_Python_y_SciPy.ipynb\" target=\"_parent\"><img src=\"https://colab.research.google.com/assets/colab-badge.svg\" alt=\"Open In Colab\"/></a>"
      ]
    },
    {
      "cell_type": "markdown",
      "source": [
        "# Capítulo 3: Curso Intensivo de Python y SciPy\n",
        "\n",
        "No es necesario ser un desarrollador de Python para comenzar a utilizar el ecosistema de Python para el aprendizaje automático. Como desarrollador que ya sabe cómo programar en uno o más lenguajes de programación, puedes aprender un nuevo lenguaje como Python muy rápidamente. Solo necesitas conocer algunas propiedades del lenguaje para transferir lo que ya sabes al nuevo idioma.\n",
        "\n",
        "Después de completar esta lección, sabrás:\n",
        "\n",
        "1. Cómo navegar la sintaxis del lenguaje Python.\n",
        "2. Suficiente de NumPy, Matplotlib y Pandas para leer y escribir scripts de aprendizaje automático en Python.\n",
        "3. Una base desde la cual construir una comprensión más profunda de las tareas de aprendizaje automático en Python.\n",
        "\n",
        "Si ya conoces un poco de Python, este capítulo será un recordatorio amigable para ti. ¡Comencemos!\n",
        "\n",
        "## 3.1 Curso Intensivo de Python\n",
        "\n",
        "Al comenzar con Python, necesitas conocer algunos detalles clave sobre la sintaxis del lenguaje para poder leer y entender el código de Python. Esto incluye:\n",
        "\n",
        "- Asignación.\n",
        "- Control de flujo.\n",
        "- Estructuras de datos.\n",
        "- Funciones.\n",
        "\n",
        "Abordaremos cada uno de estos temas con ejemplos pequeños independientes que puedes escribir y ejecutar. Recuerda, en Python, el espacio en blanco tiene significado.\n",
        "\n",
        "### 3.1.1 Asignación\n",
        "\n",
        "Como programador, la asignación y los tipos no deberían sorprenderte.\n",
        "\n",
        "\n"
      ],
      "metadata": {
        "id": "jKw1u8rdXT7t"
      }
    },
    {
      "cell_type": "markdown",
      "source": [
        "**Cadenas (strings)**: Observa cómo puedes acceder a los caracteres en la cadena utilizando la sintaxis de arrays."
      ],
      "metadata": {
        "id": "tblRMtIfXl2b"
      }
    },
    {
      "cell_type": "code",
      "source": [
        "# Strings\n",
        "data = 'hello world'\n",
        "print(data[0])\n",
        "print(len(data))\n",
        "print(data)"
      ],
      "metadata": {
        "colab": {
          "base_uri": "https://localhost:8080/"
        },
        "id": "tDUmnbaRXpMg",
        "outputId": "56d3107a-4cd1-4755-e2e6-2f2af47f758a"
      },
      "execution_count": null,
      "outputs": [
        {
          "output_type": "stream",
          "name": "stdout",
          "text": [
            "h\n",
            "11\n",
            "hello world\n"
          ]
        }
      ]
    },
    {
      "cell_type": "markdown",
      "source": [
        "**Números (Numbers)**"
      ],
      "metadata": {
        "id": "2DVD7Sb5YIpB"
      }
    },
    {
      "cell_type": "code",
      "source": [
        "# Numbers\n",
        "value = 123.1\n",
        "print(value)\n",
        "value = 10\n",
        "print(value)"
      ],
      "metadata": {
        "colab": {
          "base_uri": "https://localhost:8080/"
        },
        "id": "Ay4YTlZUYPyD",
        "outputId": "81f25cc9-2dde-4c13-b724-b6a515aac772"
      },
      "execution_count": null,
      "outputs": [
        {
          "output_type": "stream",
          "name": "stdout",
          "text": [
            "123.1\n",
            "10\n"
          ]
        }
      ]
    },
    {
      "cell_type": "markdown",
      "source": [
        "**Booleanos (Boolean)**:"
      ],
      "metadata": {
        "id": "ijoZN7s3YbAp"
      }
    },
    {
      "cell_type": "code",
      "source": [
        "# Boolean\n",
        "a = True\n",
        "b = False\n",
        "print(a, b)"
      ],
      "metadata": {
        "colab": {
          "base_uri": "https://localhost:8080/"
        },
        "id": "AogiGYIgYhFf",
        "outputId": "62768981-11aa-4c0a-8e82-d54490bc4ba3"
      },
      "execution_count": null,
      "outputs": [
        {
          "output_type": "stream",
          "name": "stdout",
          "text": [
            "True False\n"
          ]
        }
      ]
    },
    {
      "cell_type": "markdown",
      "source": [
        "**Asignación Múltiple (Multiple Assignment)**: Esto también puede ser muy útil para desempaquetar datos en estructuras de datos simples."
      ],
      "metadata": {
        "id": "j9bia_x4YriY"
      }
    },
    {
      "cell_type": "code",
      "source": [
        "# Multiple Assignment\n",
        "a, b, c = 1, 2, 3\n",
        "print(a, b, c)"
      ],
      "metadata": {
        "colab": {
          "base_uri": "https://localhost:8080/"
        },
        "id": "VUq9dIidZOyw",
        "outputId": "ec34faae-7555-4874-f1a7-58bf5e7182dd"
      },
      "execution_count": null,
      "outputs": [
        {
          "output_type": "stream",
          "name": "stdout",
          "text": [
            "1 2 3\n"
          ]
        }
      ]
    },
    {
      "cell_type": "markdown",
      "source": [
        "**Sin valor (No Value)**:"
      ],
      "metadata": {
        "id": "kWt4Ebeya17x"
      }
    },
    {
      "cell_type": "code",
      "source": [
        "# No Value\n",
        "a = None\n",
        "print(a)\n"
      ],
      "metadata": {
        "colab": {
          "base_uri": "https://localhost:8080/"
        },
        "id": "QLxyJ3bka7Gk",
        "outputId": "016938e1-5678-45b6-84b4-c816d994e6b2"
      },
      "execution_count": null,
      "outputs": [
        {
          "output_type": "stream",
          "name": "stdout",
          "text": [
            "None\n"
          ]
        }
      ]
    },
    {
      "cell_type": "markdown",
      "source": [
        "## 3.1.2 Control de Flujo\n",
        "\n",
        "Hay tres tipos principales de control de flujo que necesitas aprender:\n",
        "1. condiciones `If-Then-Else`\n",
        "2. bucles `For`\n",
        "3. bucles `While`\n",
        "\n",
        "### Condiciones If-Then-Else:\n",
        "Observa los dos puntos (:) al final de la condición y la indentación de tabulación que es significativa para el bloque de código bajo la condición.\n"
      ],
      "metadata": {
        "id": "0PbA_oa-bMgP"
      }
    },
    {
      "cell_type": "code",
      "source": [
        "valor = 99\n",
        "if valor == 99:\n",
        "  print('Esto es rápido')\n",
        "elif valor > 200:\n",
        "  print('Esto es demasiado rápido')\n",
        "else:\n",
        "  print('Esto es seguro')"
      ],
      "metadata": {
        "colab": {
          "base_uri": "https://localhost:8080/"
        },
        "id": "Vga7N5UsbQ2j",
        "outputId": "5b960409-4dbb-4b4c-82d0-fdd1a011c2b5"
      },
      "execution_count": null,
      "outputs": [
        {
          "output_type": "stream",
          "name": "stdout",
          "text": [
            "Esto es rápido\n"
          ]
        }
      ]
    },
    {
      "cell_type": "markdown",
      "source": [
        "**Bucle For**:"
      ],
      "metadata": {
        "id": "OvneLkJacFHI"
      }
    },
    {
      "cell_type": "code",
      "source": [
        "# For-Loop\n",
        "for i in range(10):\n",
        "  print(i)\n",
        "\n",
        "# for i in range(10): print i # FUNCIONA IGUAL"
      ],
      "metadata": {
        "colab": {
          "base_uri": "https://localhost:8080/"
        },
        "id": "Sfqikbd3cIq9",
        "outputId": "2a5c02e7-4005-4e07-9425-cd6242640caa"
      },
      "execution_count": null,
      "outputs": [
        {
          "output_type": "stream",
          "name": "stdout",
          "text": [
            "0\n",
            "1\n",
            "2\n",
            "3\n",
            "4\n",
            "5\n",
            "6\n",
            "7\n",
            "8\n",
            "9\n"
          ]
        }
      ]
    },
    {
      "cell_type": "markdown",
      "source": [
        "**Bucle While**:"
      ],
      "metadata": {
        "id": "KqYfuUuUclST"
      }
    },
    {
      "cell_type": "code",
      "source": [
        "# While-Loop\n",
        "i = 0\n",
        "while i < 10:\n",
        "  print(i)\n",
        "  i += 1"
      ],
      "metadata": {
        "colab": {
          "base_uri": "https://localhost:8080/"
        },
        "id": "teioLK-4cw7k",
        "outputId": "0da60ec6-f70d-4fdb-9726-55f51b23a434"
      },
      "execution_count": null,
      "outputs": [
        {
          "output_type": "stream",
          "name": "stdout",
          "text": [
            "0\n",
            "1\n",
            "2\n",
            "3\n",
            "4\n",
            "5\n",
            "6\n",
            "7\n",
            "8\n",
            "9\n"
          ]
        }
      ]
    },
    {
      "cell_type": "markdown",
      "source": [
        "## 3.1.3 Estructuras de Datos\n",
        "\n",
        "Hay tres estructuras de datos en Python que encontrarás más utilizadas y útiles. Son las:\n",
        "1. tuplas\n",
        "2. listas\n",
        "3. diccionarios\n"
      ],
      "metadata": {
        "id": "zkdHcXeUdKha"
      }
    },
    {
      "cell_type": "markdown",
      "source": [
        "### Tuplas\n",
        "\n",
        "Las tuplas son colecciones de solo lectura de elementos.\n",
        "\n",
        "\n"
      ],
      "metadata": {
        "id": "-KqDzC4XdYKH"
      }
    },
    {
      "cell_type": "code",
      "source": [
        "a = (1, 2, 3)\n",
        "print(a)\n",
        "print(a[:2])\n",
        "print(a[1])\n",
        "print(a[-1])"
      ],
      "metadata": {
        "colab": {
          "base_uri": "https://localhost:8080/"
        },
        "id": "0oSHDXBzdij3",
        "outputId": "b0cea3b1-0dcb-45dd-854f-d0c97b9f42a9"
      },
      "execution_count": null,
      "outputs": [
        {
          "output_type": "stream",
          "name": "stdout",
          "text": [
            "(1, 2, 3)\n",
            "(1, 2)\n",
            "2\n",
            "3\n"
          ]
        }
      ]
    },
    {
      "cell_type": "markdown",
      "source": [
        "### Listas\n",
        "\n",
        "Las listas utilizan la notación de corchetes y se pueden indexar utilizando la notación de arrays. Observa que estamos utilizando una funcionalidad similar a printf para combinar cadenas y variables al imprimir.\n",
        "\n"
      ],
      "metadata": {
        "id": "hI2SFb-7eZMi"
      }
    },
    {
      "cell_type": "code",
      "source": [
        "mylist = [1, 2, 3]\n",
        "print(\"Valor en la posición cero: %d\" % mylist[0])\n",
        "mylist.append(4)\n",
        "print(\"Longitud de la lista: %d\" % len(mylist))\n",
        "for value in mylist:\n",
        "    print(value)\n"
      ],
      "metadata": {
        "colab": {
          "base_uri": "https://localhost:8080/"
        },
        "id": "WoqUkLkJeiYf",
        "outputId": "25a669a6-67b6-4d9b-a9ee-279fb44c6830"
      },
      "execution_count": null,
      "outputs": [
        {
          "output_type": "stream",
          "name": "stdout",
          "text": [
            "Valor en la posición cero: 1\n",
            "Longitud de la lista: 4\n",
            "1\n",
            "2\n",
            "3\n",
            "4\n"
          ]
        }
      ]
    },
    {
      "cell_type": "markdown",
      "source": [
        "### Diccionarios\n",
        "\n",
        "Los diccionarios son mapeos de nombres a valores, como pares clave-valor. Observa el uso de las notaciones de llaves y dos puntos al definir el diccionario.\n",
        "\n",
        "Observa las tres formas que se utilizan para imprimir un valor dentro de una cadena de texto.\n",
        "\n",
        "1. Método % para formatear cadenas.\n",
        "    - %s se utiliza para insertar una cadena.\n",
        "    - %d se utiliza para insertar un número entero.\n",
        "2. F-strings (a partir de Python 3.6):\n",
        "3. Método format():\n"
      ],
      "metadata": {
        "id": "PHMx_xL6fEwu"
      }
    },
    {
      "cell_type": "code",
      "source": [
        "mydict = {'a': 1, 'b': 2, 'c': 3}\n",
        "print(\"Valor de 'a': %d\" % mydict['a'])\n",
        "mydict['a'] = 11\n",
        "print(\"Nuevo valor de 'a': %d\" % mydict['a']) # printf (como en C)\n",
        "print(f\"Claves: {mydict.keys()}\") # F-strings (a partir de Python 3.6)\n",
        "print(\"Valores: {}\".format( mydict.values())) # Método format():\n",
        "for key in mydict.keys():\n",
        "    print(mydict[key])"
      ],
      "metadata": {
        "colab": {
          "base_uri": "https://localhost:8080/"
        },
        "id": "lYUiMbq1fPe3",
        "outputId": "2da4a0bb-eb20-4737-b8b1-75c84377dc4b"
      },
      "execution_count": null,
      "outputs": [
        {
          "output_type": "stream",
          "name": "stdout",
          "text": [
            "Valor de 'a': 1\n",
            "Nuevo valor de 'a': 11\n",
            "Claves: dict_keys(['a', 'b', 'c'])\n",
            "Valores: dict_values([11, 2, 3])\n",
            "11\n",
            "2\n",
            "3\n"
          ]
        }
      ]
    },
    {
      "cell_type": "markdown",
      "source": [
        "### Funciones\n",
        "\n",
        "La mayor precaución que debes tener en cuenta con Python es el espacio en blanco. Asegúrate de tener una nueva línea vacía después de código indentado. El ejemplo a continuación define una nueva función para calcular la suma de dos valores y llama a la función con dos argumentos.\n",
        "\n"
      ],
      "metadata": {
        "id": "kVw_g75mhyUF"
      }
    },
    {
      "cell_type": "code",
      "source": [
        "# Función de suma\n",
        "def mysum(x, y):\n",
        "    return x + y\n",
        "\n",
        "# Prueba de la función de suma\n",
        "resultado = mysum(1, 3)\n",
        "print(resultado)\n"
      ],
      "metadata": {
        "id": "lJK5fIHkh1cY",
        "outputId": "3d052dd6-1de5-4bdc-e2f2-1c4ae5d2fefa",
        "colab": {
          "base_uri": "https://localhost:8080/"
        }
      },
      "execution_count": null,
      "outputs": [
        {
          "output_type": "stream",
          "name": "stdout",
          "text": [
            "4\n"
          ]
        }
      ]
    }
  ]
}